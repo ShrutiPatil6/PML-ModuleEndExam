{
 "cells": [
  {
   "cell_type": "code",
   "execution_count": 1,
   "id": "c8382559",
   "metadata": {},
   "outputs": [],
   "source": [
    "# Importing libraries\n",
    "\n",
    "import pandas as pd\n",
    "import numpy as np\n",
    "import matplotlib.pyplot as plt\n",
    "import seaborn as sns"
   ]
  },
  {
   "cell_type": "code",
   "execution_count": 2,
   "id": "b796022f",
   "metadata": {},
   "outputs": [
    {
     "data": {
      "text/html": [
       "<div>\n",
       "<style scoped>\n",
       "    .dataframe tbody tr th:only-of-type {\n",
       "        vertical-align: middle;\n",
       "    }\n",
       "\n",
       "    .dataframe tbody tr th {\n",
       "        vertical-align: top;\n",
       "    }\n",
       "\n",
       "    .dataframe thead th {\n",
       "        text-align: right;\n",
       "    }\n",
       "</style>\n",
       "<table border=\"1\" class=\"dataframe\">\n",
       "  <thead>\n",
       "    <tr style=\"text-align: right;\">\n",
       "      <th></th>\n",
       "      <th>observation</th>\n",
       "      <th>feature</th>\n",
       "      <th>price</th>\n",
       "    </tr>\n",
       "  </thead>\n",
       "  <tbody>\n",
       "    <tr>\n",
       "      <th>0</th>\n",
       "      <td>0.44</td>\n",
       "      <td>0.68</td>\n",
       "      <td>511.14</td>\n",
       "    </tr>\n",
       "    <tr>\n",
       "      <th>1</th>\n",
       "      <td>0.99</td>\n",
       "      <td>0.23</td>\n",
       "      <td>717.10</td>\n",
       "    </tr>\n",
       "    <tr>\n",
       "      <th>2</th>\n",
       "      <td>0.84</td>\n",
       "      <td>0.29</td>\n",
       "      <td>607.91</td>\n",
       "    </tr>\n",
       "    <tr>\n",
       "      <th>3</th>\n",
       "      <td>0.28</td>\n",
       "      <td>0.45</td>\n",
       "      <td>270.40</td>\n",
       "    </tr>\n",
       "    <tr>\n",
       "      <th>4</th>\n",
       "      <td>0.07</td>\n",
       "      <td>0.83</td>\n",
       "      <td>289.88</td>\n",
       "    </tr>\n",
       "    <tr>\n",
       "      <th>...</th>\n",
       "      <td>...</td>\n",
       "      <td>...</td>\n",
       "      <td>...</td>\n",
       "    </tr>\n",
       "    <tr>\n",
       "      <th>95</th>\n",
       "      <td>0.99</td>\n",
       "      <td>0.13</td>\n",
       "      <td>636.22</td>\n",
       "    </tr>\n",
       "    <tr>\n",
       "      <th>96</th>\n",
       "      <td>0.28</td>\n",
       "      <td>0.46</td>\n",
       "      <td>272.12</td>\n",
       "    </tr>\n",
       "    <tr>\n",
       "      <th>97</th>\n",
       "      <td>0.87</td>\n",
       "      <td>0.36</td>\n",
       "      <td>696.65</td>\n",
       "    </tr>\n",
       "    <tr>\n",
       "      <th>98</th>\n",
       "      <td>0.23</td>\n",
       "      <td>0.87</td>\n",
       "      <td>434.53</td>\n",
       "    </tr>\n",
       "    <tr>\n",
       "      <th>99</th>\n",
       "      <td>0.77</td>\n",
       "      <td>0.36</td>\n",
       "      <td>593.86</td>\n",
       "    </tr>\n",
       "  </tbody>\n",
       "</table>\n",
       "<p>100 rows × 3 columns</p>\n",
       "</div>"
      ],
      "text/plain": [
       "    observation  feature   price\n",
       "0          0.44     0.68  511.14\n",
       "1          0.99     0.23  717.10\n",
       "2          0.84     0.29  607.91\n",
       "3          0.28     0.45  270.40\n",
       "4          0.07     0.83  289.88\n",
       "..          ...      ...     ...\n",
       "95         0.99     0.13  636.22\n",
       "96         0.28     0.46  272.12\n",
       "97         0.87     0.36  696.65\n",
       "98         0.23     0.87  434.53\n",
       "99         0.77     0.36  593.86\n",
       "\n",
       "[100 rows x 3 columns]"
      ]
     },
     "execution_count": 2,
     "metadata": {},
     "output_type": "execute_result"
    }
   ],
   "source": [
    "# Reading data\n",
    "\n",
    "df = pd.read_excel('data_final.xlsx')\n",
    "df"
   ]
  },
  {
   "cell_type": "markdown",
   "id": "f797b3c0",
   "metadata": {},
   "source": [
    "#### EDA"
   ]
  },
  {
   "cell_type": "code",
   "execution_count": 3,
   "id": "af77d4af",
   "metadata": {},
   "outputs": [
    {
     "data": {
      "text/plain": [
       "(100, 3)"
      ]
     },
     "execution_count": 3,
     "metadata": {},
     "output_type": "execute_result"
    }
   ],
   "source": [
    "df.shape\n",
    "\n",
    "# there are 100 rows and 3 columns"
   ]
  },
  {
   "cell_type": "code",
   "execution_count": 4,
   "id": "a79c84e7",
   "metadata": {},
   "outputs": [
    {
     "name": "stdout",
     "output_type": "stream",
     "text": [
      "<class 'pandas.core.frame.DataFrame'>\n",
      "RangeIndex: 100 entries, 0 to 99\n",
      "Data columns (total 3 columns):\n",
      " #   Column       Non-Null Count  Dtype  \n",
      "---  ------       --------------  -----  \n",
      " 0   observation  100 non-null    float64\n",
      " 1   feature      100 non-null    float64\n",
      " 2   price        100 non-null    float64\n",
      "dtypes: float64(3)\n",
      "memory usage: 2.5 KB\n"
     ]
    }
   ],
   "source": [
    "df.info(all)\n",
    "\n",
    "# All the columns are of numeric float type"
   ]
  },
  {
   "cell_type": "code",
   "execution_count": 5,
   "id": "d2a0296e",
   "metadata": {},
   "outputs": [
    {
     "data": {
      "text/plain": [
       "observation    0\n",
       "feature        0\n",
       "price          0\n",
       "dtype: int64"
      ]
     },
     "execution_count": 5,
     "metadata": {},
     "output_type": "execute_result"
    }
   ],
   "source": [
    "# Checking for null values\n",
    "\n",
    "df.isnull().sum()"
   ]
  },
  {
   "cell_type": "markdown",
   "id": "e04ec03e",
   "metadata": {},
   "source": [
    "There are no null values present in the dataset"
   ]
  },
  {
   "cell_type": "code",
   "execution_count": 6,
   "id": "eeed38c5",
   "metadata": {},
   "outputs": [
    {
     "data": {
      "text/html": [
       "<div>\n",
       "<style scoped>\n",
       "    .dataframe tbody tr th:only-of-type {\n",
       "        vertical-align: middle;\n",
       "    }\n",
       "\n",
       "    .dataframe tbody tr th {\n",
       "        vertical-align: top;\n",
       "    }\n",
       "\n",
       "    .dataframe thead th {\n",
       "        text-align: right;\n",
       "    }\n",
       "</style>\n",
       "<table border=\"1\" class=\"dataframe\">\n",
       "  <thead>\n",
       "    <tr style=\"text-align: right;\">\n",
       "      <th></th>\n",
       "      <th>observation</th>\n",
       "      <th>feature</th>\n",
       "      <th>price</th>\n",
       "    </tr>\n",
       "  </thead>\n",
       "  <tbody>\n",
       "    <tr>\n",
       "      <th>count</th>\n",
       "      <td>100.000000</td>\n",
       "      <td>100.000000</td>\n",
       "      <td>100.000000</td>\n",
       "    </tr>\n",
       "    <tr>\n",
       "      <th>mean</th>\n",
       "      <td>0.550300</td>\n",
       "      <td>0.501700</td>\n",
       "      <td>554.214600</td>\n",
       "    </tr>\n",
       "    <tr>\n",
       "      <th>std</th>\n",
       "      <td>0.293841</td>\n",
       "      <td>0.307124</td>\n",
       "      <td>347.312796</td>\n",
       "    </tr>\n",
       "    <tr>\n",
       "      <th>min</th>\n",
       "      <td>0.010000</td>\n",
       "      <td>0.000000</td>\n",
       "      <td>42.080000</td>\n",
       "    </tr>\n",
       "    <tr>\n",
       "      <th>25%</th>\n",
       "      <td>0.300000</td>\n",
       "      <td>0.230000</td>\n",
       "      <td>278.172500</td>\n",
       "    </tr>\n",
       "    <tr>\n",
       "      <th>50%</th>\n",
       "      <td>0.570000</td>\n",
       "      <td>0.485000</td>\n",
       "      <td>514.285000</td>\n",
       "    </tr>\n",
       "    <tr>\n",
       "      <th>75%</th>\n",
       "      <td>0.822500</td>\n",
       "      <td>0.760000</td>\n",
       "      <td>751.752500</td>\n",
       "    </tr>\n",
       "    <tr>\n",
       "      <th>max</th>\n",
       "      <td>1.000000</td>\n",
       "      <td>0.990000</td>\n",
       "      <td>1563.820000</td>\n",
       "    </tr>\n",
       "  </tbody>\n",
       "</table>\n",
       "</div>"
      ],
      "text/plain": [
       "       observation     feature        price\n",
       "count   100.000000  100.000000   100.000000\n",
       "mean      0.550300    0.501700   554.214600\n",
       "std       0.293841    0.307124   347.312796\n",
       "min       0.010000    0.000000    42.080000\n",
       "25%       0.300000    0.230000   278.172500\n",
       "50%       0.570000    0.485000   514.285000\n",
       "75%       0.822500    0.760000   751.752500\n",
       "max       1.000000    0.990000  1563.820000"
      ]
     },
     "execution_count": 6,
     "metadata": {},
     "output_type": "execute_result"
    }
   ],
   "source": [
    "# Describing the dataset\n",
    "\n",
    "df.describe()"
   ]
  },
  {
   "cell_type": "markdown",
   "id": "dad6048c",
   "metadata": {},
   "source": [
    "- Maximum price per square foot is 1563\n",
    "- Minimum price 42"
   ]
  },
  {
   "cell_type": "code",
   "execution_count": 7,
   "id": "ecef17c7",
   "metadata": {},
   "outputs": [
    {
     "data": {
      "text/plain": [
       "<seaborn.axisgrid.PairGrid at 0x1f303a9d550>"
      ]
     },
     "execution_count": 7,
     "metadata": {},
     "output_type": "execute_result"
    },
    {
     "data": {
      "image/png": "[encoded data removed]",
      "text/plain": [
       "<Figure size 540x540 with 12 Axes>"
      ]
     },
     "metadata": {
      "needs_background": "light"
     },
     "output_type": "display_data"
    }
   ],
   "source": [
    "sns.pairplot(df)"
   ]
  },
  {
   "cell_type": "markdown",
   "id": "cfd113cc",
   "metadata": {},
   "source": [
    "### Separating independent and dependent variables"
   ]
  },
  {
   "cell_type": "code",
   "execution_count": 8,
   "id": "db7ab557",
   "metadata": {},
   "outputs": [],
   "source": [
    "X = df.iloc[:,:-1].values\n",
    "y = df.iloc[:,-1].values"
   ]
  },
  {
   "cell_type": "code",
   "execution_count": 9,
   "id": "d06d7924",
   "metadata": {},
   "outputs": [
    {
     "data": {
      "text/plain": [
       "array([[0.44, 0.68],\n",
       "       [0.99, 0.23],\n",
       "       [0.84, 0.29],\n",
       "       [0.28, 0.45],\n",
       "       [0.07, 0.83],\n",
       "       [0.66, 0.8 ],\n",
       "       [0.73, 0.92],\n",
       "       [0.57, 0.43],\n",
       "       [0.43, 0.89],\n",
       "       [0.27, 0.95],\n",
       "       [0.43, 0.06],\n",
       "       [0.87, 0.91],\n",
       "       [0.78, 0.69],\n",
       "       [0.9 , 0.94],\n",
       "       [0.41, 0.06],\n",
       "       [0.52, 0.17],\n",
       "       [0.47, 0.66],\n",
       "       [0.65, 0.43],\n",
       "       [0.85, 0.64],\n",
       "       [0.93, 0.44],\n",
       "       [0.41, 0.93],\n",
       "       [0.36, 0.43],\n",
       "       [0.78, 0.85],\n",
       "       [0.69, 0.07],\n",
       "       [0.04, 0.52],\n",
       "       [0.17, 0.15],\n",
       "       [0.68, 0.13],\n",
       "       [0.84, 0.6 ],\n",
       "       [0.38, 0.4 ],\n",
       "       [0.12, 0.65],\n",
       "       [0.62, 0.17],\n",
       "       [0.79, 0.97],\n",
       "       [0.82, 0.04],\n",
       "       [0.91, 0.53],\n",
       "       [0.35, 0.85],\n",
       "       [0.57, 0.69],\n",
       "       [0.52, 0.22],\n",
       "       [0.31, 0.15],\n",
       "       [0.6 , 0.02],\n",
       "       [0.99, 0.91],\n",
       "       [0.48, 0.76],\n",
       "       [0.3 , 0.19],\n",
       "       [0.58, 0.62],\n",
       "       [0.65, 0.17],\n",
       "       [0.6 , 0.69],\n",
       "       [0.95, 0.76],\n",
       "       [0.47, 0.23],\n",
       "       [0.15, 0.96],\n",
       "       [0.01, 0.03],\n",
       "       [0.26, 0.23],\n",
       "       [0.01, 0.11],\n",
       "       [0.45, 0.87],\n",
       "       [0.09, 0.97],\n",
       "       [0.96, 0.25],\n",
       "       [0.63, 0.58],\n",
       "       [0.06, 0.42],\n",
       "       [0.1 , 0.24],\n",
       "       [0.26, 0.62],\n",
       "       [0.41, 0.15],\n",
       "       [0.91, 0.95],\n",
       "       [0.83, 0.64],\n",
       "       [0.44, 0.64],\n",
       "       [0.2 , 0.4 ],\n",
       "       [0.43, 0.12],\n",
       "       [0.21, 0.22],\n",
       "       [0.88, 0.4 ],\n",
       "       [0.31, 0.87],\n",
       "       [0.99, 0.99],\n",
       "       [0.23, 0.26],\n",
       "       [0.79, 0.12],\n",
       "       [0.02, 0.28],\n",
       "       [0.89, 0.48],\n",
       "       [0.02, 0.56],\n",
       "       [0.92, 0.03],\n",
       "       [0.72, 0.34],\n",
       "       [0.3 , 0.99],\n",
       "       [0.86, 0.66],\n",
       "       [0.47, 0.65],\n",
       "       [0.79, 0.94],\n",
       "       [0.82, 0.96],\n",
       "       [0.9 , 0.42],\n",
       "       [0.19, 0.62],\n",
       "       [0.7 , 0.57],\n",
       "       [0.7 , 0.61],\n",
       "       [0.69, 0.  ],\n",
       "       [0.98, 0.3 ],\n",
       "       [0.3 , 0.08],\n",
       "       [0.85, 0.49],\n",
       "       [0.73, 0.01],\n",
       "       [1.  , 0.23],\n",
       "       [0.42, 0.94],\n",
       "       [0.49, 0.98],\n",
       "       [0.89, 0.68],\n",
       "       [0.22, 0.46],\n",
       "       [0.34, 0.5 ],\n",
       "       [0.99, 0.13],\n",
       "       [0.28, 0.46],\n",
       "       [0.87, 0.36],\n",
       "       [0.23, 0.87],\n",
       "       [0.77, 0.36]])"
      ]
     },
     "execution_count": 9,
     "metadata": {},
     "output_type": "execute_result"
    }
   ],
   "source": [
    "X"
   ]
  },
  {
   "cell_type": "code",
   "execution_count": 10,
   "id": "6f4370d0",
   "metadata": {},
   "outputs": [
    {
     "data": {
      "text/plain": [
       "array([ 511.14,  717.1 ,  607.91,  270.4 ,  289.88,  830.85, 1038.09,\n",
       "        455.19,  640.17,  511.06,  177.03, 1242.52,  891.37, 1339.72,\n",
       "        169.88,  276.05,  517.43,  522.25,  932.21,  851.25,  640.11,\n",
       "        308.68, 1046.05,  332.4 ,  171.85,  109.55,  361.97,  872.21,\n",
       "        303.7 ,  256.38,  341.2 , 1194.63,  408.6 ,  895.54,  518.25,\n",
       "        638.75,  301.9 ,  163.38,  240.77, 1449.05,  609.  ,  174.59,\n",
       "        593.45,  355.96,  671.46, 1193.7 ,  278.88,  411.4 ,   42.08,\n",
       "        166.19,   58.62,  642.45,  368.14,  702.78,  615.74,  143.79,\n",
       "        109.  ,  328.28,  205.16, 1360.49,  905.83,  487.33,  202.76,\n",
       "        202.01,  148.87,  745.3 ,  503.04, 1563.82,  165.21,  438.4 ,\n",
       "         98.47,  819.63,  174.44,  483.13,  534.24,  572.31,  957.61,\n",
       "        518.29, 1143.49, 1211.31,  784.74,  283.7 ,  684.38,  719.46,\n",
       "        292.23,  775.68,  130.77,  801.6 ,  323.55,  726.9 ,  661.12,\n",
       "        771.11, 1016.14,  237.69,  325.89,  636.22,  272.12,  696.65,\n",
       "        434.53,  593.86])"
      ]
     },
     "execution_count": 10,
     "metadata": {},
     "output_type": "execute_result"
    }
   ],
   "source": [
    "y"
   ]
  },
  {
   "cell_type": "markdown",
   "id": "0048cfb8",
   "metadata": {},
   "source": [
    "### Splitting into train and test data"
   ]
  },
  {
   "cell_type": "code",
   "execution_count": 11,
   "id": "159e63aa",
   "metadata": {},
   "outputs": [],
   "source": [
    "from sklearn.model_selection import train_test_split\n",
    "X_train,X_test,y_train,y_test = train_test_split(X,y,test_size=0.2, random_state=0)"
   ]
  },
  {
   "cell_type": "code",
   "execution_count": 12,
   "id": "1d4993fd",
   "metadata": {},
   "outputs": [
    {
     "data": {
      "text/plain": [
       "((80, 2), (20, 2))"
      ]
     },
     "execution_count": 12,
     "metadata": {},
     "output_type": "execute_result"
    }
   ],
   "source": [
    "X_train.shape, X_test.shape"
   ]
  },
  {
   "cell_type": "code",
   "execution_count": 13,
   "id": "9b9bf270",
   "metadata": {},
   "outputs": [
    {
     "data": {
      "text/plain": [
       "((80,), (20,))"
      ]
     },
     "execution_count": 13,
     "metadata": {},
     "output_type": "execute_result"
    }
   ],
   "source": [
    "y_train.shape, y_test.shape"
   ]
  },
  {
   "cell_type": "code",
   "execution_count": 14,
   "id": "8056b1eb",
   "metadata": {},
   "outputs": [],
   "source": [
    "# Importing metrics and model api\n",
    "\n",
    "from sklearn import metrics\n",
    "import statsmodels.api as sm"
   ]
  },
  {
   "cell_type": "markdown",
   "id": "f9a3e592",
   "metadata": {},
   "source": [
    "Implementing Linear regression"
   ]
  },
  {
   "cell_type": "code",
   "execution_count": 15,
   "id": "ede93f1f",
   "metadata": {},
   "outputs": [
    {
     "data": {
      "text/plain": [
       "LinearRegression()"
      ]
     },
     "execution_count": 15,
     "metadata": {},
     "output_type": "execute_result"
    }
   ],
   "source": [
    "from sklearn.linear_model import LinearRegression\n",
    "reg = LinearRegression()\n",
    "reg.fit(X_train, y_train)"
   ]
  },
  {
   "cell_type": "markdown",
   "id": "0675736a",
   "metadata": {},
   "source": [
    "### Polynomial Regression with degree 2"
   ]
  },
  {
   "cell_type": "code",
   "execution_count": 16,
   "id": "686ccbdb",
   "metadata": {},
   "outputs": [
    {
     "data": {
      "text/plain": [
       "LinearRegression()"
      ]
     },
     "execution_count": 16,
     "metadata": {},
     "output_type": "execute_result"
    }
   ],
   "source": [
    "from sklearn.preprocessing import PolynomialFeatures\n",
    "poly_reg = PolynomialFeatures(degree=2)\n",
    "x_poly = poly_reg.fit_transform(X_train)\n",
    "lin_reg = LinearRegression()\n",
    "lin_reg.fit(x_poly,y_train)"
   ]
  },
  {
   "cell_type": "code",
   "execution_count": 17,
   "id": "84728ab5",
   "metadata": {},
   "outputs": [
    {
     "data": {
      "text/plain": [
       "array([ 356.97041624,  131.48679167,  612.24585213,  141.46564912,\n",
       "        574.45079704,  227.7049998 ,  522.44355571,  482.69995215,\n",
       "        624.72075471,  632.03897372,  705.47890319, 1028.58725282,\n",
       "       1152.75931229, 1322.04882209,  460.49939796,  337.77307228,\n",
       "       1046.55961454,  159.74693596,  906.45307885,  643.47703027])"
      ]
     },
     "execution_count": 17,
     "metadata": {},
     "output_type": "execute_result"
    }
   ],
   "source": [
    "y_pred = lin_reg.predict(poly_reg.fit_transform(X_test))\n",
    "y_pred"
   ]
  },
  {
   "cell_type": "markdown",
   "id": "80f49534",
   "metadata": {},
   "source": [
    "##### Performance metrics for degree 2 model"
   ]
  },
  {
   "cell_type": "code",
   "execution_count": 18,
   "id": "87f4e57f",
   "metadata": {},
   "outputs": [
    {
     "data": {
      "text/plain": [
       "57.72843565622088"
      ]
     },
     "execution_count": 18,
     "metadata": {},
     "output_type": "execute_result"
    }
   ],
   "source": [
    "metrics.mean_squared_error(y_test,y_pred)"
   ]
  },
  {
   "cell_type": "code",
   "execution_count": 19,
   "id": "507720c3",
   "metadata": {},
   "outputs": [
    {
     "data": {
      "text/plain": [
       "0.9994809534787271"
      ]
     },
     "execution_count": 19,
     "metadata": {},
     "output_type": "execute_result"
    }
   ],
   "source": [
    "metrics.r2_score(y_test, y_pred)"
   ]
  },
  {
   "cell_type": "markdown",
   "id": "e872b8be",
   "metadata": {},
   "source": [
    "- Error: 57.72\n",
    "- Accuracy: 99.94%"
   ]
  },
  {
   "cell_type": "code",
   "execution_count": 20,
   "id": "ea2976f6",
   "metadata": {},
   "outputs": [
    {
     "data": {
      "text/plain": [
       "[<matplotlib.lines.Line2D at 0x1f3060d6c40>]"
      ]
     },
     "execution_count": 20,
     "metadata": {},
     "output_type": "execute_result"
    },
    {
     "data": {
      "image/png": "[encoded data removed]",
      "text/plain": [
       "<Figure size 432x288 with 1 Axes>"
      ]
     },
     "metadata": {
      "needs_background": "light"
     },
     "output_type": "display_data"
    }
   ],
   "source": [
    "plt.scatter(y_test,y_pred,color='orange')\n",
    "plt.plot(y_test,y_pred,color='blue')"
   ]
  },
  {
   "cell_type": "markdown",
   "id": "573a476a",
   "metadata": {},
   "source": [
    "### Plynomial Regression with degree 3"
   ]
  },
  {
   "cell_type": "code",
   "execution_count": 21,
   "id": "20a5d74e",
   "metadata": {},
   "outputs": [
    {
     "data": {
      "text/plain": [
       "LinearRegression()"
      ]
     },
     "execution_count": 21,
     "metadata": {},
     "output_type": "execute_result"
    }
   ],
   "source": [
    "from sklearn.preprocessing import PolynomialFeatures\n",
    "poly_reg = PolynomialFeatures(degree=3)\n",
    "x_poly = poly_reg.fit_transform(X_train)\n",
    "lin_reg3 = LinearRegression()\n",
    "lin_reg3.fit(x_poly,y_train)"
   ]
  },
  {
   "cell_type": "code",
   "execution_count": 22,
   "id": "fc9c298f",
   "metadata": {},
   "outputs": [
    {
     "data": {
      "text/plain": [
       "array([ 359.50360287,  131.23834372,  609.16930978,  149.98412841,\n",
       "        566.72101623,  237.76303341,  520.60934004,  485.30770519,\n",
       "        619.83089854,  632.50577664,  703.21376307, 1024.98728581,\n",
       "       1151.24558258, 1330.85054638,  460.70580041,  340.84136488,\n",
       "       1041.64246977,  170.75998438,  901.57838952,  636.04094675])"
      ]
     },
     "execution_count": 22,
     "metadata": {},
     "output_type": "execute_result"
    }
   ],
   "source": [
    "y_pred3 = lin_reg3.predict(poly_reg.fit_transform(X_test))\n",
    "y_pred3"
   ]
  },
  {
   "cell_type": "markdown",
   "id": "10dd884a",
   "metadata": {},
   "source": [
    "##### Performance metrics for degree 2 model"
   ]
  },
  {
   "cell_type": "code",
   "execution_count": 23,
   "id": "5236f260",
   "metadata": {},
   "outputs": [
    {
     "data": {
      "text/plain": [
       "22.241818750637222"
      ]
     },
     "execution_count": 23,
     "metadata": {},
     "output_type": "execute_result"
    }
   ],
   "source": [
    "metrics.mean_squared_error(y_test,y_pred3)"
   ]
  },
  {
   "cell_type": "code",
   "execution_count": 24,
   "id": "f78a2ca8",
   "metadata": {},
   "outputs": [
    {
     "data": {
      "text/plain": [
       "0.999800019894562"
      ]
     },
     "execution_count": 24,
     "metadata": {},
     "output_type": "execute_result"
    }
   ],
   "source": [
    "metrics.r2_score(y_test, y_pred3)"
   ]
  },
  {
   "cell_type": "markdown",
   "id": "9bf3e365",
   "metadata": {},
   "source": [
    "- Error: 22.24\n",
    "- Accuracy: 99.99%"
   ]
  },
  {
   "cell_type": "code",
   "execution_count": 25,
   "id": "aaafbf0d",
   "metadata": {},
   "outputs": [
    {
     "data": {
      "text/plain": [
       "[<matplotlib.lines.Line2D at 0x1f30612aa90>]"
      ]
     },
     "execution_count": 25,
     "metadata": {},
     "output_type": "execute_result"
    },
    {
     "data": {
      "image/png": "[encoded data removed]",
      "text/plain": [
       "<Figure size 432x288 with 1 Axes>"
      ]
     },
     "metadata": {
      "needs_background": "light"
     },
     "output_type": "display_data"
    }
   ],
   "source": [
    "#Scatter plot for polynomial regression model with degree 3\n",
    "\n",
    "plt.scatter(y_test,y_pred3,color='orange')\n",
    "plt.plot(y_test,y_pred3,color='blue')"
   ]
  },
  {
   "cell_type": "markdown",
   "id": "a9324b12",
   "metadata": {},
   "source": [
    "#### Comparing predicted and actual results"
   ]
  },
  {
   "cell_type": "code",
   "execution_count": 27,
   "id": "9a6c04fe",
   "metadata": {},
   "outputs": [],
   "source": [
    "df_test = pd.DataFrame(y_test.copy(), columns=['Actual'])"
   ]
  },
  {
   "cell_type": "code",
   "execution_count": 28,
   "id": "ff5d5a71",
   "metadata": {},
   "outputs": [],
   "source": [
    "df_test['Predicted'] = y_pred3"
   ]
  },
  {
   "cell_type": "code",
   "execution_count": 29,
   "id": "e72564da",
   "metadata": {},
   "outputs": [
    {
     "data": {
      "text/html": [
       "<div>\n",
       "<style scoped>\n",
       "    .dataframe tbody tr th:only-of-type {\n",
       "        vertical-align: middle;\n",
       "    }\n",
       "\n",
       "    .dataframe tbody tr th {\n",
       "        vertical-align: top;\n",
       "    }\n",
       "\n",
       "    .dataframe thead th {\n",
       "        text-align: right;\n",
       "    }\n",
       "</style>\n",
       "<table border=\"1\" class=\"dataframe\">\n",
       "  <thead>\n",
       "    <tr style=\"text-align: right;\">\n",
       "      <th></th>\n",
       "      <th>Actual</th>\n",
       "      <th>Predicted</th>\n",
       "    </tr>\n",
       "  </thead>\n",
       "  <tbody>\n",
       "    <tr>\n",
       "      <th>0</th>\n",
       "      <td>361.97</td>\n",
       "      <td>359.503603</td>\n",
       "    </tr>\n",
       "    <tr>\n",
       "      <th>1</th>\n",
       "      <td>130.77</td>\n",
       "      <td>131.238344</td>\n",
       "    </tr>\n",
       "    <tr>\n",
       "      <th>2</th>\n",
       "      <td>607.91</td>\n",
       "      <td>609.169310</td>\n",
       "    </tr>\n",
       "    <tr>\n",
       "      <th>3</th>\n",
       "      <td>143.79</td>\n",
       "      <td>149.984128</td>\n",
       "    </tr>\n",
       "    <tr>\n",
       "      <th>4</th>\n",
       "      <td>572.31</td>\n",
       "      <td>566.721016</td>\n",
       "    </tr>\n",
       "    <tr>\n",
       "      <th>5</th>\n",
       "      <td>237.69</td>\n",
       "      <td>237.763033</td>\n",
       "    </tr>\n",
       "    <tr>\n",
       "      <th>6</th>\n",
       "      <td>517.43</td>\n",
       "      <td>520.609340</td>\n",
       "    </tr>\n",
       "    <tr>\n",
       "      <th>7</th>\n",
       "      <td>483.13</td>\n",
       "      <td>485.307705</td>\n",
       "    </tr>\n",
       "    <tr>\n",
       "      <th>8</th>\n",
       "      <td>615.74</td>\n",
       "      <td>619.830899</td>\n",
       "    </tr>\n",
       "    <tr>\n",
       "      <th>9</th>\n",
       "      <td>636.22</td>\n",
       "      <td>632.505777</td>\n",
       "    </tr>\n",
       "    <tr>\n",
       "      <th>10</th>\n",
       "      <td>702.78</td>\n",
       "      <td>703.213763</td>\n",
       "    </tr>\n",
       "    <tr>\n",
       "      <th>11</th>\n",
       "      <td>1016.14</td>\n",
       "      <td>1024.987286</td>\n",
       "    </tr>\n",
       "    <tr>\n",
       "      <th>12</th>\n",
       "      <td>1143.49</td>\n",
       "      <td>1151.245583</td>\n",
       "    </tr>\n",
       "    <tr>\n",
       "      <th>13</th>\n",
       "      <td>1339.72</td>\n",
       "      <td>1330.850546</td>\n",
       "    </tr>\n",
       "    <tr>\n",
       "      <th>14</th>\n",
       "      <td>455.19</td>\n",
       "      <td>460.705800</td>\n",
       "    </tr>\n",
       "    <tr>\n",
       "      <th>15</th>\n",
       "      <td>341.20</td>\n",
       "      <td>340.841365</td>\n",
       "    </tr>\n",
       "    <tr>\n",
       "      <th>16</th>\n",
       "      <td>1046.05</td>\n",
       "      <td>1041.642470</td>\n",
       "    </tr>\n",
       "    <tr>\n",
       "      <th>17</th>\n",
       "      <td>171.85</td>\n",
       "      <td>170.759984</td>\n",
       "    </tr>\n",
       "    <tr>\n",
       "      <th>18</th>\n",
       "      <td>895.54</td>\n",
       "      <td>901.578390</td>\n",
       "    </tr>\n",
       "    <tr>\n",
       "      <th>19</th>\n",
       "      <td>640.17</td>\n",
       "      <td>636.040947</td>\n",
       "    </tr>\n",
       "  </tbody>\n",
       "</table>\n",
       "</div>"
      ],
      "text/plain": [
       "     Actual    Predicted\n",
       "0    361.97   359.503603\n",
       "1    130.77   131.238344\n",
       "2    607.91   609.169310\n",
       "3    143.79   149.984128\n",
       "4    572.31   566.721016\n",
       "5    237.69   237.763033\n",
       "6    517.43   520.609340\n",
       "7    483.13   485.307705\n",
       "8    615.74   619.830899\n",
       "9    636.22   632.505777\n",
       "10   702.78   703.213763\n",
       "11  1016.14  1024.987286\n",
       "12  1143.49  1151.245583\n",
       "13  1339.72  1330.850546\n",
       "14   455.19   460.705800\n",
       "15   341.20   340.841365\n",
       "16  1046.05  1041.642470\n",
       "17   171.85   170.759984\n",
       "18   895.54   901.578390\n",
       "19   640.17   636.040947"
      ]
     },
     "execution_count": 29,
     "metadata": {},
     "output_type": "execute_result"
    }
   ],
   "source": [
    "df_test"
   ]
  },
  {
   "cell_type": "markdown",
   "id": "2efd7925",
   "metadata": {},
   "source": [
    "It is seen that the predicted results nearly accurate"
   ]
  },
  {
   "cell_type": "code",
   "execution_count": 26,
   "id": "f1cff46e",
   "metadata": {},
   "outputs": [
    {
     "data": {
      "text/html": [
       "<table class=\"simpletable\">\n",
       "<caption>OLS Regression Results</caption>\n",
       "<tr>\n",
       "  <th>Dep. Variable:</th>            <td>y</td>        <th>  R-squared:         </th> <td>   0.937</td>\n",
       "</tr>\n",
       "<tr>\n",
       "  <th>Model:</th>                   <td>OLS</td>       <th>  Adj. R-squared:    </th> <td>   0.935</td>\n",
       "</tr>\n",
       "<tr>\n",
       "  <th>Method:</th>             <td>Least Squares</td>  <th>  F-statistic:       </th> <td>   567.9</td>\n",
       "</tr>\n",
       "<tr>\n",
       "  <th>Date:</th>             <td>Mon, 23 Jan 2023</td> <th>  Prob (F-statistic):</th> <td>8.03e-47</td>\n",
       "</tr>\n",
       "<tr>\n",
       "  <th>Time:</th>                 <td>17:28:38</td>     <th>  Log-Likelihood:    </th> <td> -471.29</td>\n",
       "</tr>\n",
       "<tr>\n",
       "  <th>No. Observations:</th>      <td>    80</td>      <th>  AIC:               </th> <td>   948.6</td>\n",
       "</tr>\n",
       "<tr>\n",
       "  <th>Df Residuals:</th>          <td>    77</td>      <th>  BIC:               </th> <td>   955.7</td>\n",
       "</tr>\n",
       "<tr>\n",
       "  <th>Df Model:</th>              <td>     2</td>      <th>                     </th>     <td> </td>   \n",
       "</tr>\n",
       "<tr>\n",
       "  <th>Covariance Type:</th>      <td>nonrobust</td>    <th>                     </th>     <td> </td>   \n",
       "</tr>\n",
       "</table>\n",
       "<table class=\"simpletable\">\n",
       "<tr>\n",
       "    <td></td>       <th>coef</th>     <th>std err</th>      <th>t</th>      <th>P>|t|</th>  <th>[0.025</th>    <th>0.975]</th>  \n",
       "</tr>\n",
       "<tr>\n",
       "  <th>const</th> <td> -257.7030</td> <td>   25.766</td> <td>  -10.002</td> <td> 0.000</td> <td> -309.009</td> <td> -206.397</td>\n",
       "</tr>\n",
       "<tr>\n",
       "  <th>x1</th>    <td>  880.1814</td> <td>   34.631</td> <td>   25.416</td> <td> 0.000</td> <td>  811.223</td> <td>  949.140</td>\n",
       "</tr>\n",
       "<tr>\n",
       "  <th>x2</th>    <td>  655.9319</td> <td>   32.754</td> <td>   20.026</td> <td> 0.000</td> <td>  590.709</td> <td>  721.154</td>\n",
       "</tr>\n",
       "</table>\n",
       "<table class=\"simpletable\">\n",
       "<tr>\n",
       "  <th>Omnibus:</th>       <td>30.682</td> <th>  Durbin-Watson:     </th> <td>   1.784</td>\n",
       "</tr>\n",
       "<tr>\n",
       "  <th>Prob(Omnibus):</th> <td> 0.000</td> <th>  Jarque-Bera (JB):  </th> <td>  49.370</td>\n",
       "</tr>\n",
       "<tr>\n",
       "  <th>Skew:</th>          <td> 1.601</td> <th>  Prob(JB):          </th> <td>1.90e-11</td>\n",
       "</tr>\n",
       "<tr>\n",
       "  <th>Kurtosis:</th>      <td> 5.136</td> <th>  Cond. No.          </th> <td>    5.13</td>\n",
       "</tr>\n",
       "</table><br/><br/>Notes:<br/>[1] Standard Errors assume that the covariance matrix of the errors is correctly specified."
      ],
      "text/plain": [
       "<class 'statsmodels.iolib.summary.Summary'>\n",
       "\"\"\"\n",
       "                            OLS Regression Results                            \n",
       "==============================================================================\n",
       "Dep. Variable:                      y   R-squared:                       0.937\n",
       "Model:                            OLS   Adj. R-squared:                  0.935\n",
       "Method:                 Least Squares   F-statistic:                     567.9\n",
       "Date:                Mon, 23 Jan 2023   Prob (F-statistic):           8.03e-47\n",
       "Time:                        17:28:38   Log-Likelihood:                -471.29\n",
       "No. Observations:                  80   AIC:                             948.6\n",
       "Df Residuals:                      77   BIC:                             955.7\n",
       "Df Model:                           2                                         \n",
       "Covariance Type:            nonrobust                                         \n",
       "==============================================================================\n",
       "                 coef    std err          t      P>|t|      [0.025      0.975]\n",
       "------------------------------------------------------------------------------\n",
       "const       -257.7030     25.766    -10.002      0.000    -309.009    -206.397\n",
       "x1           880.1814     34.631     25.416      0.000     811.223     949.140\n",
       "x2           655.9319     32.754     20.026      0.000     590.709     721.154\n",
       "==============================================================================\n",
       "Omnibus:                       30.682   Durbin-Watson:                   1.784\n",
       "Prob(Omnibus):                  0.000   Jarque-Bera (JB):               49.370\n",
       "Skew:                           1.601   Prob(JB):                     1.90e-11\n",
       "Kurtosis:                       5.136   Cond. No.                         5.13\n",
       "==============================================================================\n",
       "\n",
       "Notes:\n",
       "[1] Standard Errors assume that the covariance matrix of the errors is correctly specified.\n",
       "\"\"\""
      ]
     },
     "execution_count": 26,
     "metadata": {},
     "output_type": "execute_result"
    }
   ],
   "source": [
    "# Summary of model\n",
    "\n",
    "x_stats = sm.add_constant(X_train)\n",
    "summ = sm.OLS(y_train,x_stats).fit()\n",
    "summ.summary()"
   ]
  },
  {
   "cell_type": "markdown",
   "id": "bb096286",
   "metadata": {},
   "source": [
    "### Conclusion\n",
    "\n",
    "1. Almost all the points are on the the line of regression, hence, it is safe to day that polunomial regression would be the best model to predict price per square foot.\n",
    "2. According to the performance metrics of both the polynomial regression model with degree 2 and 3, it is seen that the model with degree 3 has more accuracy than the model with degree 2 and much less mean squared error than model with degree2.\n",
    "3. Therefore, we can choose a model with degree 3 that would guve the best result with high accuracy."
   ]
  },
  {
   "cell_type": "code",
   "execution_count": null,
   "id": "071d0016",
   "metadata": {},
   "outputs": [],
   "source": []
  }
 ],
 "metadata": {
  "kernelspec": {
   "display_name": "Python 3",
   "language": "python",
   "name": "python3"
  },
  "language_info": {
   "codemirror_mode": {
    "name": "ipython",
    "version": 3
   },
   "file_extension": ".py",
   "mimetype": "text/x-python",
   "name": "python",
   "nbconvert_exporter": "python",
   "pygments_lexer": "ipython3",
   "version": "3.8.8"
  }
 },
 "nbformat": 4,
 "nbformat_minor": 5
}
